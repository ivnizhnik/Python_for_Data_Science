{
  "nbformat": 4,
  "nbformat_minor": 0,
  "metadata": {
    "colab": {
      "name": "core1_BakeryNumPy_IrinaNizhnik.ipynb",
      "provenance": [],
      "collapsed_sections": []
    },
    "kernelspec": {
      "name": "python3",
      "display_name": "Python 3"
    },
    "language_info": {
      "name": "python"
    }
  },
  "cells": [
    {
      "cell_type": "code",
      "metadata": {
        "id": "IehPh1wmbini"
      },
      "source": [
        "#The selling price of 3 items at the bake sale are: $2 for a brownie, $1 for a cookie, $10 for a cake."
      ],
      "execution_count": null,
      "outputs": []
    },
    {
      "cell_type": "code",
      "metadata": {
        "colab": {
          "base_uri": "https://localhost:8080/"
        },
        "id": "Rcxa9ZXt0Xgg",
        "outputId": "0e0f408b-9446-460e-a2c5-a76d5407dabd"
      },
      "source": [
        "price=[2, 1, 10]\n",
        "type(price)"
      ],
      "execution_count": null,
      "outputs": [
        {
          "output_type": "execute_result",
          "data": {
            "text/plain": [
              "list"
            ]
          },
          "metadata": {},
          "execution_count": 1
        }
      ]
    },
    {
      "cell_type": "code",
      "metadata": {
        "id": "3sHmLafwcZQn"
      },
      "source": [
        "#The club sells 17 brownies, 40 cookies, and 1 cake. "
      ],
      "execution_count": null,
      "outputs": []
    },
    {
      "cell_type": "code",
      "metadata": {
        "colab": {
          "base_uri": "https://localhost:8080/"
        },
        "id": "gIS0sgs80wa_",
        "outputId": "c9a637a7-2e90-4dc4-d7fd-8c4b4026eb44"
      },
      "source": [
        "quantity_sold=[17, 40, 1]\n",
        "type(quantity_sold)"
      ],
      "execution_count": null,
      "outputs": [
        {
          "output_type": "execute_result",
          "data": {
            "text/plain": [
              "list"
            ]
          },
          "metadata": {},
          "execution_count": 2
        }
      ]
    },
    {
      "cell_type": "code",
      "metadata": {
        "id": "JvoBd-UFcl_r"
      },
      "source": [
        "#Importing the NumPy library & Converting a list to a NumPy Array"
      ],
      "execution_count": null,
      "outputs": []
    },
    {
      "cell_type": "code",
      "metadata": {
        "colab": {
          "base_uri": "https://localhost:8080/"
        },
        "id": "e3X0ZSFT1Llq",
        "outputId": "25ef714b-fb93-4c08-f603-555152729dde"
      },
      "source": [
        "import numpy as np\n",
        "price_array=np.array(price)\n",
        "quantity_sold_array=np.array(quantity_sold)\n",
        "type(price_array)"
      ],
      "execution_count": null,
      "outputs": [
        {
          "output_type": "execute_result",
          "data": {
            "text/plain": [
              "numpy.ndarray"
            ]
          },
          "metadata": {},
          "execution_count": 3
        }
      ]
    },
    {
      "cell_type": "code",
      "metadata": {
        "id": "xn--3mTac4gD"
      },
      "source": [
        "#We want the price * quantity for each item. Let's try multiplying our arrays."
      ],
      "execution_count": null,
      "outputs": []
    },
    {
      "cell_type": "code",
      "metadata": {
        "colab": {
          "base_uri": "https://localhost:8080/"
        },
        "id": "BNUr7Aw41XFZ",
        "outputId": "cb7745e4-4300-4832-ca83-8cb2f59bf683"
      },
      "source": [
        "price_array * quantity_sold_array"
      ],
      "execution_count": null,
      "outputs": [
        {
          "output_type": "execute_result",
          "data": {
            "text/plain": [
              "array([34, 40, 10])"
            ]
          },
          "metadata": {},
          "execution_count": 4
        }
      ]
    },
    {
      "cell_type": "code",
      "metadata": {
        "id": "zYlFMIP1dLbY"
      },
      "source": [
        " #Let's say a brownie costs $0.25 to make, a cookie costs $0.50 to make, and a cake costs $5.00 to make."
      ],
      "execution_count": null,
      "outputs": []
    },
    {
      "cell_type": "code",
      "metadata": {
        "colab": {
          "base_uri": "https://localhost:8080/"
        },
        "id": "6ASlxCGP1r_9",
        "outputId": "a6a14204-23e0-4963-f670-9324534b73b6"
      },
      "source": [
        "cost_array=np.array([0.25, 0.50, 5.00])\n",
        "profit_array=price_array - cost_array\n",
        "print(profit_array)"
      ],
      "execution_count": null,
      "outputs": [
        {
          "output_type": "stream",
          "name": "stdout",
          "text": [
            "[1.75 0.5  5.  ]\n"
          ]
        }
      ]
    },
    {
      "cell_type": "code",
      "metadata": {
        "id": "03Ja5fL3dXe-"
      },
      "source": [
        "#The output is the profit made for each item type.  For example, each Brownie makes the club a profit of $1.75."
      ],
      "execution_count": null,
      "outputs": []
    },
    {
      "cell_type": "code",
      "metadata": {
        "id": "KExgYf3hdaZo"
      },
      "source": [
        "#Suppose you wanted to identify which items made a profit greater than $2 per item."
      ],
      "execution_count": null,
      "outputs": []
    },
    {
      "cell_type": "code",
      "metadata": {
        "colab": {
          "base_uri": "https://localhost:8080/"
        },
        "id": "cdPb0NYz2VCy",
        "outputId": "8ccff0a5-56b8-4b40-8673-c85fb8128838"
      },
      "source": [
        "profit_array>2"
      ],
      "execution_count": null,
      "outputs": [
        {
          "output_type": "execute_result",
          "data": {
            "text/plain": [
              "array([False, False,  True])"
            ]
          },
          "metadata": {},
          "execution_count": 6
        }
      ]
    },
    {
      "cell_type": "code",
      "metadata": {
        "id": "1s_t6_AUdgtL"
      },
      "source": [
        "#Appending, Deleting\n",
        "#The club will also sell pies for $7 so we need to update our price_array"
      ],
      "execution_count": null,
      "outputs": []
    },
    {
      "cell_type": "code",
      "metadata": {
        "id": "y-MMuNd5d15G"
      },
      "source": [
        "#INCORRECT WHEN + 7"
      ],
      "execution_count": null,
      "outputs": []
    },
    {
      "cell_type": "code",
      "metadata": {
        "colab": {
          "base_uri": "https://localhost:8080/"
        },
        "id": "pqqXRaBk2utB",
        "outputId": "e0bb46c1-2c3d-4a64-97fa-d02a6d790cff"
      },
      "source": [
        "price_array = price_array + [7]\n",
        "print(price_array)"
      ],
      "execution_count": null,
      "outputs": [
        {
          "output_type": "stream",
          "name": "stdout",
          "text": [
            "[ 9  8 17]\n"
          ]
        }
      ]
    },
    {
      "cell_type": "code",
      "metadata": {
        "colab": {
          "base_uri": "https://localhost:8080/"
        },
        "id": "StEohCW-25o2",
        "outputId": "954c0740-1b9d-4edc-fd2e-5d2fe89b5646"
      },
      "source": [
        "price_array = price_array - [7]\n",
        "print(price_array)"
      ],
      "execution_count": null,
      "outputs": [
        {
          "output_type": "stream",
          "name": "stdout",
          "text": [
            "[ 2  1 10]\n"
          ]
        }
      ]
    },
    {
      "cell_type": "code",
      "metadata": {
        "id": "ZEnYV3dAd7k4"
      },
      "source": [
        "# Append to array - # The proper way to append an element to an array"
      ],
      "execution_count": null,
      "outputs": []
    },
    {
      "cell_type": "code",
      "metadata": {
        "colab": {
          "base_uri": "https://localhost:8080/"
        },
        "id": "wApR4QN_3H1b",
        "outputId": "6ecf6efd-1a54-4624-fdee-aa086e59a921"
      },
      "source": [
        "price_array = np.append(price_array, 7)\n",
        "print(price_array)"
      ],
      "execution_count": null,
      "outputs": [
        {
          "output_type": "stream",
          "name": "stdout",
          "text": [
            "[ 2  1 10  7]\n"
          ]
        }
      ]
    },
    {
      "cell_type": "code",
      "metadata": {
        "id": "B7zIB5XWeEER"
      },
      "source": [
        "#the club want to add the following prices:  $4.50 for fudge, $3 for a cupcake, $4 for a loaf of banana bread, and $9 for a torte."
      ],
      "execution_count": null,
      "outputs": []
    },
    {
      "cell_type": "code",
      "metadata": {
        "colab": {
          "base_uri": "https://localhost:8080/"
        },
        "id": "JqlQ3ag35W_-",
        "outputId": "7aad44c3-9438-4e56-f279-3e417c182a80"
      },
      "source": [
        "price_array = np.append(price_array, [4.50, 3, 4, 9])\n",
        "print(price_array)"
      ],
      "execution_count": null,
      "outputs": [
        {
          "output_type": "stream",
          "name": "stdout",
          "text": [
            "[ 2.   1.  10.   7.   4.5  3.   4.   9. ]\n"
          ]
        }
      ]
    },
    {
      "cell_type": "code",
      "metadata": {
        "id": "sN9cpgPpeURg"
      },
      "source": [
        "#o check the data type of elements within the array, you can use the following:"
      ],
      "execution_count": null,
      "outputs": []
    },
    {
      "cell_type": "code",
      "metadata": {
        "colab": {
          "base_uri": "https://localhost:8080/"
        },
        "id": "A30BoDpt5vIi",
        "outputId": "11d01010-8698-4bd7-b5e2-9f6d864dea6a"
      },
      "source": [
        "print(price_array.dtype)"
      ],
      "execution_count": null,
      "outputs": [
        {
          "output_type": "stream",
          "name": "stdout",
          "text": [
            "float64\n"
          ]
        }
      ]
    },
    {
      "cell_type": "code",
      "metadata": {
        "id": "3_BsXqwpeaw1"
      },
      "source": [
        "#It turns out nobody plans to make a torte, so they want to remove the price of that item from the array. "
      ],
      "execution_count": null,
      "outputs": []
    },
    {
      "cell_type": "code",
      "metadata": {
        "colab": {
          "base_uri": "https://localhost:8080/"
        },
        "id": "HtJK9eO759ZS",
        "outputId": "d5f6b3df-526a-40de-db22-11dff704619e"
      },
      "source": [
        "price_array = np.delete(price_array, -1)\n",
        "print(price_array)"
      ],
      "execution_count": null,
      "outputs": [
        {
          "output_type": "stream",
          "name": "stdout",
          "text": [
            "[ 2.   1.  10.   7.   4.5  3.   4. ]\n"
          ]
        }
      ]
    },
    {
      "cell_type": "code",
      "metadata": {
        "id": "AiMkQGZmenmY"
      },
      "source": [
        "#Next the club decides to raise the price of cakes from $10 to $12. (Cakes are at index 2.)"
      ],
      "execution_count": null,
      "outputs": []
    },
    {
      "cell_type": "code",
      "metadata": {
        "colab": {
          "base_uri": "https://localhost:8080/"
        },
        "id": "MOf24hXK6RtV",
        "outputId": "e6f9a786-3f06-44d1-d240-64e23e5dc101"
      },
      "source": [
        "price_array[2] = 12\n",
        "print(price_array)"
      ],
      "execution_count": null,
      "outputs": [
        {
          "output_type": "stream",
          "name": "stdout",
          "text": [
            "[ 2.   1.  12.   7.   4.5  3.   4. ]\n"
          ]
        }
      ]
    },
    {
      "cell_type": "code",
      "metadata": {
        "id": "kevqDI4PeySQ"
      },
      "source": [
        "#2) Update the  quantity_sold_array to include the sale of 2 pies,  3 trays of fudge, 16 cupcakes, and 5 loaves of banana bread.   "
      ],
      "execution_count": null,
      "outputs": []
    },
    {
      "cell_type": "code",
      "metadata": {
        "colab": {
          "base_uri": "https://localhost:8080/"
        },
        "id": "ixTdvub0A8BL",
        "outputId": "1540b1b1-dc57-4f9b-d042-6e5b61e492f3"
      },
      "source": [
        "quantity_sold_array = np.append(quantity_sold_array, [2, 3, 16, 5])\n",
        "print(quantity_sold_array)"
      ],
      "execution_count": null,
      "outputs": [
        {
          "output_type": "stream",
          "name": "stdout",
          "text": [
            "[17 40  1  2  3 16  5]\n"
          ]
        }
      ]
    },
    {
      "cell_type": "code",
      "metadata": {
        "id": "cvKTDfCGfKgG"
      },
      "source": [
        "#One of the cookies fallen on the ground, so edit the quantity_sold_array from 40 to 39."
      ],
      "execution_count": null,
      "outputs": []
    },
    {
      "cell_type": "code",
      "metadata": {
        "colab": {
          "base_uri": "https://localhost:8080/"
        },
        "id": "I4MkZDKDHC_6",
        "outputId": "a97ed9a1-d55f-41ee-f06b-272c693b6053"
      },
      "source": [
        "quantity_sold_array[1] = 39\n",
        "print(quantity_sold_array)"
      ],
      "execution_count": null,
      "outputs": [
        {
          "output_type": "stream",
          "name": "stdout",
          "text": [
            "[17 39  1  2  3 16  5]\n"
          ]
        }
      ]
    },
    {
      "cell_type": "code",
      "metadata": {
        "id": "ScH8hUqmfQ2R"
      },
      "source": [
        "#Determine the amount of money collected from the sale of each item at the bake sale.  "
      ],
      "execution_count": null,
      "outputs": []
    },
    {
      "cell_type": "code",
      "metadata": {
        "colab": {
          "base_uri": "https://localhost:8080/"
        },
        "id": "lblDCUjpILyi",
        "outputId": "08f7f560-bf4c-450c-81e6-9bbdcf3e0e75"
      },
      "source": [
        "price_array * quantity_sold_array"
      ],
      "execution_count": null,
      "outputs": [
        {
          "output_type": "execute_result",
          "data": {
            "text/plain": [
              "array([34. , 39. , 12. , 14. , 13.5, 48. , 20. ])"
            ]
          },
          "metadata": {},
          "execution_count": 17
        }
      ]
    },
    {
      "cell_type": "code",
      "metadata": {
        "id": "7RmrIGfLfXm7"
      },
      "source": [
        "#4) Create a NumPy array \"quantity_leftover\" that includes the quantity of each item remaining at the end of the sale: 2 cakes, 1 pie, 6 trays of fudge, 2 loaves of banana bread.  Hint: Make sure to include \"0\" for any item that was sold out. Why is this important when creating the array?"
      ],
      "execution_count": null,
      "outputs": []
    },
    {
      "cell_type": "code",
      "metadata": {
        "colab": {
          "base_uri": "https://localhost:8080/"
        },
        "id": "sf_q7Ol_NW4z",
        "outputId": "f4c4c2ec-fd19-481d-9f6d-df5a0bbb94bb"
      },
      "source": [
        "quantity_leftover=[0, 0, 2, 1, 6, 2]\n",
        "type(quantity_leftover)"
      ],
      "execution_count": null,
      "outputs": [
        {
          "output_type": "execute_result",
          "data": {
            "text/plain": [
              "list"
            ]
          },
          "metadata": {},
          "execution_count": 31
        }
      ]
    },
    {
      "cell_type": "code",
      "metadata": {
        "id": "k6hzU5CsNwEy"
      },
      "source": [
        "quantity_leftover_array=np.array(quantity_leftover)"
      ],
      "execution_count": null,
      "outputs": []
    },
    {
      "cell_type": "code",
      "metadata": {
        "id": "CqR1iq3kfh_U"
      },
      "source": [
        "#5) The club decides to sell the leftover items at half price and everything quickly sells out!  Determine how much money was collected from the clearance sale.  "
      ],
      "execution_count": null,
      "outputs": []
    },
    {
      "cell_type": "code",
      "metadata": {
        "colab": {
          "base_uri": "https://localhost:8080/"
        },
        "id": "cI9RTyJAOnO4",
        "outputId": "6dd72e12-4550-426b-b2d6-d3238e0c0f62"
      },
      "source": [
        "price_array / 2"
      ],
      "execution_count": null,
      "outputs": [
        {
          "output_type": "execute_result",
          "data": {
            "text/plain": [
              "array([1.  , 0.5 , 6.  , 3.5 , 2.25, 1.5 , 2.  ])"
            ]
          },
          "metadata": {},
          "execution_count": 22
        }
      ]
    },
    {
      "cell_type": "code",
      "metadata": {
        "id": "sVuS4f-DfqKW"
      },
      "source": [
        "#6) How much total money was collected from the bake sale (including the sale of full price and clearance items)?"
      ],
      "execution_count": null,
      "outputs": []
    },
    {
      "cell_type": "code",
      "metadata": {
        "colab": {
          "base_uri": "https://localhost:8080/"
        },
        "id": "5lIF2iIHaP3J",
        "outputId": "54c5a897-e684-48b0-f851-e0bfcb107db4"
      },
      "source": [
        "quantity_leftover_array=np.array([0, 0, 2, 1, 6, 0, 2])\n",
        "(price_array / 2) * quantity_leftover_array"
      ],
      "execution_count": null,
      "outputs": [
        {
          "output_type": "execute_result",
          "data": {
            "text/plain": [
              "array([ 0. ,  0. , 12. ,  3.5, 13.5,  0. ,  4. ])"
            ]
          },
          "metadata": {},
          "execution_count": 30
        }
      ]
    },
    {
      "cell_type": "code",
      "metadata": {
        "id": "wdR4xi84fwUH"
      },
      "source": [
        ""
      ],
      "execution_count": null,
      "outputs": []
    },
    {
      "cell_type": "code",
      "metadata": {
        "colab": {
          "base_uri": "https://localhost:8080/"
        },
        "id": "DcYcXr7toFwD",
        "outputId": "97c148d1-50f1-4791-d1e2-18f0d46bc82d"
      },
      "source": [
        "([34. , 39. , 12. , 14. , 13.5, 48. , 20. ])+ ([ 0. ,  0. , 12. ,  3.5, 13.5,  0. ,  4. ])"
      ],
      "execution_count": null,
      "outputs": [
        {
          "output_type": "execute_result",
          "data": {
            "text/plain": [
              "[34.0, 39.0, 12.0, 14.0, 13.5, 48.0, 20.0, 0.0, 0.0, 12.0, 3.5, 13.5, 0.0, 4.0]"
            ]
          },
          "metadata": {},
          "execution_count": 33
        }
      ]
    },
    {
      "cell_type": "code",
      "metadata": {
        "colab": {
          "base_uri": "https://localhost:8080/"
        },
        "id": "NImIMyN1YvpN",
        "outputId": "2e999f4e-11de-41ee-c56f-8121a6c620ca"
      },
      "source": [
        "import numpy as np\n",
        "np.sum([34.0, 39.0, 12.0, 14.0, 13.5, 48.0, 20.0, 0.0, 0.0, 12.0, 3.5, 13.5, 0.0, 4.0])"
      ],
      "execution_count": null,
      "outputs": [
        {
          "output_type": "execute_result",
          "data": {
            "text/plain": [
              "213.5"
            ]
          },
          "metadata": {},
          "execution_count": 3
        }
      ]
    },
    {
      "cell_type": "code",
      "metadata": {
        "id": "O-TUr7jnf9CI"
      },
      "source": [
        "# Hint: Your final answer should be $213.50, but you must make sure you get this answer with your NumPy coding skills!!"
      ],
      "execution_count": null,
      "outputs": []
    }
  ]
}